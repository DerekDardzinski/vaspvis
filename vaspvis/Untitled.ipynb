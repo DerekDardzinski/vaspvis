{
 "cells": [
  {
   "cell_type": "code",
   "execution_count": 1,
   "metadata": {},
   "outputs": [],
   "source": [
    "from band import Band\n",
    "import matplotlib.pyplot as plt"
   ]
  },
  {
   "cell_type": "code",
   "execution_count": null,
   "metadata": {},
   "outputs": [],
   "source": [
    "bands = Band(folder='../../vaspvis_data/band', projected=True)\n",
    "fig = plt.figure(figsize=(4, 3), dpi=300)\n",
    "ax = fig.add_subplot(111)\n",
    "\n",
    "bands.plot_orbitals(ax=ax, orbitals=[0,1,2,3,4,5,6,7,8], scale_factor=5)\n",
    "bands.plot_spd(ax=ax, order=['s', 'p'], scale_factor=0.1)\n",
    "\n",
    "plt.ylim(-6, 6)\n",
    "plt.ylabel('$E - E_F$ $(eV)$', fontsize=6)\n",
    "plt.tick_params(labelsize=6, length=1.5)\n",
    "plt.tick_params(axis='x', length=0)\n",
    "\n",
    "# line4 = plt.Line2D([0], [0], color='red', marker='o', linestyle='')\n",
    "# line5 = plt.Line2D([0], [0], color='green')\n",
    "# line6 = plt.Line2D([0], [0], color='blue')\n",
    "\n",
    "# print(line4.__dict__)\n",
    "# print(ax.get_legend().legendHandles[0].__dict__)\n",
    "\n",
    "# handles = [line4, line5, line6]\n",
    "# label = ['a', 'b', 'c']\n",
    "# ax.legend(handles=handles, labels=labels)\n",
    "plt.show()\n"
   ]
  },
  {
   "cell_type": "code",
   "execution_count": null,
   "metadata": {},
   "outputs": [],
   "source": []
  }
 ],
 "metadata": {
  "kernelspec": {
   "display_name": "Python 3",
   "language": "python",
   "name": "python3"
  },
  "language_info": {
   "codemirror_mode": {
    "name": "ipython",
    "version": 3
   },
   "file_extension": ".py",
   "mimetype": "text/x-python",
   "name": "python",
   "nbconvert_exporter": "python",
   "pygments_lexer": "ipython3",
   "version": "3.6.9"
  }
 },
 "nbformat": 4,
 "nbformat_minor": 4
}
